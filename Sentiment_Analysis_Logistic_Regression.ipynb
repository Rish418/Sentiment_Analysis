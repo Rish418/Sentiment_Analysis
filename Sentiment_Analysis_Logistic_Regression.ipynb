{
 "cells": [
  {
   "cell_type": "markdown",
   "metadata": {
    "id": "7ZZ2Sb-RZmVu"
   },
   "source": [
    "# ***Sentiment Analysis of tweet samples using Logistic regression***\n",
    "\n",
    "\n"
   ]
  },
  {
   "cell_type": "code",
   "execution_count": 14,
   "metadata": {
    "colab": {
     "base_uri": "https://localhost:8080/"
    },
    "id": "T1PcruZ8qzRH",
    "outputId": "86a497df-1267-4c45-c539-3a3262ac3287"
   },
   "outputs": [
    {
     "name": "stdout",
     "output_type": "stream",
     "text": [
      "[nltk_data] Downloading package twitter_samples to /root/nltk_data...\n",
      "[nltk_data]   Unzipping corpora/twitter_samples.zip.\n"
     ]
    },
    {
     "data": {
      "text/plain": [
       "True"
      ]
     },
     "execution_count": 14,
     "metadata": {},
     "output_type": "execute_result"
    }
   ],
   "source": [
    "import nltk\n",
    "import os as getcwd\n",
    "import numpy as np\n",
    "import pandas as pd \n",
    "import matplotlib.pyplot as plt \n",
    "\n",
    "from nltk.corpus import twitter_samples \n",
    "nltk.download('twitter_samples')\n",
    "\n"
   ]
  },
  {
   "cell_type": "code",
   "execution_count": 15,
   "metadata": {
    "id": "4Va287rv9ktq"
   },
   "outputs": [],
   "source": [
    "all_positive_tweets = twitter_samples.strings('positive_tweets.json')\n",
    "all_negative_tweets = twitter_samples.strings('negative_tweets.json')\n",
    "\n",
    "train_pos= all_positive_tweets[:4000]\n",
    "test_pos = all_positive_tweets[4000:]\n",
    "test_neg= all_negative_tweets[4000:]\n",
    "train_neg= all_negative_tweets[:4000]\n",
    "\n",
    "train_x = train_pos + train_neg \n",
    "test_x = test_pos + test_neg \n"
   ]
  },
  {
   "cell_type": "code",
   "execution_count": 57,
   "metadata": {
    "colab": {
     "base_uri": "https://localhost:8080/"
    },
    "id": "vKTy70aFWNKE",
    "outputId": "208d48ba-f79e-4e5b-f69e-52e95737c332"
   },
   "outputs": [
    {
     "name": "stdout",
     "output_type": "stream",
     "text": [
      "5000\n"
     ]
    }
   ],
   "source": [
    "print( len(all_positive_tweets))"
   ]
  },
  {
   "cell_type": "code",
   "execution_count": 16,
   "metadata": {
    "id": "WCYl5OpEA-KZ"
   },
   "outputs": [],
   "source": [
    "train_y = np.append(np.ones((len(train_pos), 1)), np.zeros((len(train_neg), 1)), axis=0)\n",
    "test_y = np.append(np.ones((len(test_pos), 1)), np.zeros((len(test_neg), 1)), axis=0)"
   ]
  },
  {
   "cell_type": "code",
   "execution_count": 17,
   "metadata": {
    "colab": {
     "base_uri": "https://localhost:8080/"
    },
    "id": "B652A9DxBAIL",
    "outputId": "74071933-a462-4c57-bcbd-45c584817d9b"
   },
   "outputs": [
    {
     "name": "stdout",
     "output_type": "stream",
     "text": [
      "train_y.shape = (8000, 1)\n",
      "test_y.shape = (2000, 1)\n"
     ]
    }
   ],
   "source": [
    "print(\"train_y.shape = \" + str(train_y.shape))\n",
    "print(\"test_y.shape = \" + str(test_y.shape))"
   ]
  },
  {
   "cell_type": "code",
   "execution_count": 18,
   "metadata": {
    "colab": {
     "base_uri": "https://localhost:8080/"
    },
    "id": "_zU3_N8ABU_A",
    "outputId": "c3b5886f-0743-438a-b378-e93ff56dcbab"
   },
   "outputs": [
    {
     "name": "stdout",
     "output_type": "stream",
     "text": [
      "[nltk_data] Downloading package stopwords to /root/nltk_data...\n",
      "[nltk_data]   Unzipping corpora/stopwords.zip.\n"
     ]
    },
    {
     "data": {
      "text/plain": [
       "True"
      ]
     },
     "execution_count": 18,
     "metadata": {},
     "output_type": "execute_result"
    }
   ],
   "source": [
    "nltk.download('stopwords')"
   ]
  },
  {
   "cell_type": "code",
   "execution_count": 78,
   "metadata": {
    "colab": {
     "base_uri": "https://localhost:8080/"
    },
    "id": "1W9dyvqXBcQp",
    "outputId": "41bc0387-7c73-4d74-dbf1-20a80361723a"
   },
   "outputs": [
    {
     "name": "stdout",
     "output_type": "stream",
     "text": [
      "This is an example of a positive tweet: \n",
      " #FollowFriday @France_Inte @PKuchly57 @Milipol_Paris for being top engaged members in my community this week :)\n",
      "This is an example of a processed positive tweet: \n",
      " ['followfriday', 'top', 'engag', 'member', 'commun', 'week', ':)']\n"
     ]
    }
   ],
   "source": [
    "import re                                  \n",
    "import string\n",
    "from nltk.corpus import stopwords          \n",
    "from nltk.stem import PorterStemmer        \n",
    "from nltk.tokenize import TweetTokenizer\n",
    "def process_tweet(tweet):\n",
    "    tweet = re.sub(r'^RT[\\s]+', '', tweet)\n",
    "    tweet = re.sub(r'https?:\\/\\/.*[\\r\\n]*', '', tweet)\n",
    "    tweet = re.sub(r'#', '', tweet)\n",
    "    tokenizer = TweetTokenizer()\n",
    "    tweet_tokenized = tokenizer.tokenize(tweet)\n",
    "    stopwords_english = stopwords.words('english') \n",
    "    tweet_processsed=[word for word in tweet_tokenized \n",
    "    if word not  in stopwords_english and word not in       \n",
    "    string.punctuation and word[0]!='@' ]\n",
    "    stemmer = PorterStemmer() \n",
    "    tweet_after_stem=[]\n",
    "    for word in tweet_processsed:\n",
    "        word=stemmer.stem(word)\n",
    "        tweet_after_stem.append(word)\n",
    "    return tweet_after_stem\n",
    "\n",
    "print('This is an example of a positive tweet: \\n', train_x[0])\n",
    "print('This is an example of a processed positive tweet: \\n', process_tweet(train_x[0]))\n"
   ]
  },
  {
   "cell_type": "code",
   "execution_count": 79,
   "metadata": {
    "id": "BULYuI0zFC0h"
   },
   "outputs": [],
   "source": [
    "pos_words=[]\n",
    "for tweet in all_positive_tweets:\n",
    "    tweet=process_tweet(tweet)\n",
    "    \n",
    "    for word in tweet:\n",
    "        \n",
    "        pos_words.append(word)\n",
    "freq_pos={}\n",
    "for word in pos_words:\n",
    "    if (word,1) not in freq_pos:\n",
    "        freq_pos[(word,1)]=1\n",
    "    else:\n",
    "        freq_pos[(word,1)]=freq_pos[(word,1)]+1\n",
    "neg_words=[]\n",
    "for tweet in all_negative_tweets:\n",
    "    tweet=text_process(tweet)\n",
    "    \n",
    "    for word in tweet:\n",
    "        \n",
    "        neg_words.append(word)\n",
    "freq_neg={}\n",
    "for word in neg_words:\n",
    "    if (word,0) not in freq_neg:\n",
    "        freq_neg[(word,0)]=1\n",
    "    else:\n",
    "        freq_neg[(word,0)]=freq_neg[(word,0)]+1\n",
    "freqs_dict = dict(freq_pos)\n",
    "freqs_dict.update(freq_neg)\n"
   ]
  },
  {
   "cell_type": "code",
   "execution_count": 60,
   "metadata": {
    "colab": {
     "base_uri": "https://localhost:8080/"
    },
    "id": "l-1TSEKVLekm",
    "outputId": "f5176301-9bc9-40d6-b368-f8b5484ce9eb"
   },
   "outputs": [
    {
     "name": "stdout",
     "output_type": "stream",
     "text": [
      "type(freqs) = <class 'dict'>\n",
      "len(freqs) = 16255\n"
     ]
    }
   ],
   "source": [
    "print(\"type(freqs) = \" + str(type(freqs_dict)))\n",
    "print(\"len(freqs) = \" + str(len(freqs_dict.keys())))"
   ]
  },
  {
   "cell_type": "code",
   "execution_count": 69,
   "metadata": {
    "id": "v28ozhEGMgn3"
   },
   "outputs": [],
   "source": [
    "import numpy as np \n",
    "def features_extraction( tweet, freqs_dict):\n",
    "  word_l= process_tweet(tweet)\n",
    "  x=np.zeros((1,3))\n",
    "  for i in word_l:\n",
    "    try:\n",
    "      x[0,1]+= freqs_dict[(i,1)]\n",
    "    except:\n",
    "      x[0,1]+=0\n",
    "    try:\n",
    "      x[0,2]+= freqs_dict[(i,0.0)]\n",
    "    except:\n",
    "      x[0,2]+= 0\n",
    "  assert(x.shape==(1,3))\n",
    "  return x\n",
    "\n",
    "\n"
   ]
  },
  {
   "cell_type": "code",
   "execution_count": 70,
   "metadata": {
    "id": "KdyKzgD6Or3Z"
   },
   "outputs": [],
   "source": [
    "X = np.zeros((len(train_x), 3))\n",
    "    \n",
    "for i in range(len(train_x)):\n",
    "    \n",
    "    X[i, :]= features_extraction(train_x[i], freqs_dict)"
   ]
  },
  {
   "cell_type": "code",
   "execution_count": 71,
   "metadata": {
    "id": "MJNh7beYQJGJ"
   },
   "outputs": [],
   "source": [
    "def sigmoid(z):                                                                                   \n",
    "    h = 1 / (1 + np.exp(-z))\n",
    "    return h\n",
    "\n",
    "def gradientDescent(x, y, theta, alpha, num_iters):\n",
    "    \n",
    "    m = x.shape[0]\n",
    "    \n",
    "    for i in range(0, num_iters):\n",
    "        \n",
    "        # get z, the dot product of x and theta\n",
    "        z = np.dot(x,theta)\n",
    "        \n",
    "        # get the sigmoid of z\n",
    "        h = sigmoid(z)\n",
    "        \n",
    "        # calculate the cost function\n",
    "        J = -1./m * (np.dot(y.transpose(), np.log(h)) + np.dot((1-y).transpose(),np.log(1-h)))    \n",
    "\n",
    "        # update the weights theta\n",
    "        theta = theta = theta - (alpha/m) * np.dot(x.transpose(),(h-y))\n",
    "        \n",
    "    ### END CODE HERE ###\n",
    "    J = float(J)\n",
    "    return J, theta"
   ]
  },
  {
   "cell_type": "code",
   "execution_count": 72,
   "metadata": {
    "colab": {
     "base_uri": "https://localhost:8080/"
    },
    "id": "PFLKKS3dRz10",
    "outputId": "558a625d-255a-4a8f-9a6c-fd74b1394277"
   },
   "outputs": [
    {
     "name": "stdout",
     "output_type": "stream",
     "text": [
      "The cost after training is 0.12414201.\n",
      "The resulting vector of weights is [0.0, 0.00097518, -0.00076929]\n"
     ]
    }
   ],
   "source": [
    "Y = train_y\n",
    "\n",
    "# Apply gradient descent\n",
    "J, theta = gradientDescent(X, Y, np.zeros((3, 1)), 1e-9, 5000)\n",
    "print(f\"The cost after training is {J:.8f}.\")\n",
    "print(f\"The resulting vector of weights is {[round(t, 8) for t in np.squeeze(theta)]}\")"
   ]
  },
  {
   "cell_type": "code",
   "execution_count": 73,
   "metadata": {
    "id": "xJJ1yXOWSUfH"
   },
   "outputs": [],
   "source": [
    "def predict_tweet(tweet, freqs, theta):\n",
    "    \n",
    "    \n",
    "    # extract the features of the tweet and store it into x\n",
    "    x = features_extraction(tweet,freqs)\n",
    "    \n",
    "    # make the prediction using x and theta\n",
    "    y_pred = sigmoid(np.dot(x,theta))\n",
    "    \n",
    "    ### END CODE HERE ###\n",
    "    \n",
    "    return y_pred"
   ]
  },
  {
   "cell_type": "code",
   "execution_count": 74,
   "metadata": {
    "colab": {
     "base_uri": "https://localhost:8080/"
    },
    "id": "kkIus4fhSoLF",
    "outputId": "8305bde3-085b-4635-d2c7-784ffb9b7712"
   },
   "outputs": [
    {
     "name": "stdout",
     "output_type": "stream",
     "text": [
      "I am happy -> 0.458439\n",
      "I am bad -> 0.403293\n",
      "this movie should have been great. -> 0.538616\n",
      "great -> 0.537388\n",
      "great great -> 0.574360\n",
      "great great great -> 0.610519\n",
      "great great great great -> 0.645502\n"
     ]
    }
   ],
   "source": [
    "for tweet in ['I am happy', 'I am bad', 'this movie should have been great.', 'great', 'great great', 'great great great', 'great great great great']:\n",
    "    print( '%s -> %f' % (tweet, predict_tweet(tweet, freqs_dict, theta)))"
   ]
  },
  {
   "cell_type": "code",
   "execution_count": 75,
   "metadata": {
    "id": "rZRuiqxwTEsp"
   },
   "outputs": [],
   "source": [
    "def test_logistic_regression(test_x, test_y, freqs_dict, theta):\n",
    "    # the list for storing predictions\n",
    "    y_hat = []\n",
    "    \n",
    "    for tweet in test_x:\n",
    "        # get the label prediction for the tweet\n",
    "        y_pred = predict_tweet(tweet, freqs_dict, theta)\n",
    "        \n",
    "        if y_pred > 0.5:\n",
    "            # append 1.0 to the list\n",
    "            y_hat.append(1)\n",
    "        else:\n",
    "            # append 0 to the list\n",
    "            y_hat.append(0)\n",
    "\n",
    "    m=len(y_hat)\n",
    "    y_hat=np.array(y_hat)\n",
    "    y_hat=y_hat.reshape(m)\n",
    "    test_y=test_y.reshape(m)\n",
    "    accuracy = (y_hat==np.squeeze(test_y)).sum()/len(test_x)\n",
    "    \n",
    "    return accuracy"
   ]
  },
  {
   "cell_type": "code",
   "execution_count": 76,
   "metadata": {
    "colab": {
     "base_uri": "https://localhost:8080/"
    },
    "id": "oi_QfMt_Tgqe",
    "outputId": "4f41f25f-355a-4b61-816d-881f6d410a38"
   },
   "outputs": [
    {
     "name": "stdout",
     "output_type": "stream",
     "text": [
      "Logistic regression model's accuracy = 0.9870\n"
     ]
    }
   ],
   "source": [
    "tmp_accuracy = test_logistic_regression(test_x, test_y, freqs_dict, theta)\n",
    "print(f\"Logistic regression model's accuracy = {tmp_accuracy:.4f}\")"
   ]
  }
 ],
 "metadata": {
  "colab": {
   "name": "Untitled0.ipynb",
   "provenance": []
  },
  "kernelspec": {
   "display_name": "Python 3",
   "language": "python",
   "name": "python3"
  },
  "language_info": {
   "codemirror_mode": {
    "name": "ipython",
    "version": 3
   },
   "file_extension": ".py",
   "mimetype": "text/x-python",
   "name": "python",
   "nbconvert_exporter": "python",
   "pygments_lexer": "ipython3",
   "version": "3.8.3"
  }
 },
 "nbformat": 4,
 "nbformat_minor": 1
}
